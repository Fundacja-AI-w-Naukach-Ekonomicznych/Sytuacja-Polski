{
  "nbformat": 4,
  "nbformat_minor": 0,
  "metadata": {
    "colab": {
      "provenance": []
    },
    "kernelspec": {
      "name": "python3",
      "display_name": "Python 3"
    },
    "language_info": {
      "name": "python"
    }
  },
  "cells": [
    {
      "cell_type": "markdown",
      "source": [
        "# Główny kod\n",
        "Dokumentacja API [MFW](https://www.imf.org/external/datamapper/api/help)\n",
        "\n",
        "Słownik pańsw UE"
      ],
      "metadata": {
        "id": "iLc2Hy6em9O4"
      }
    },
    {
      "cell_type": "code",
      "execution_count": null,
      "metadata": {
        "id": "yVa2GyZGjgYe"
      },
      "outputs": [],
      "source": [
        "eu_country_codes = {\n",
        "    'AUT': 'Austria','BEL': 'Belgium', 'BGR': 'Bulgaria', 'HRV': 'Croatia',\n",
        "    'CYP': 'Cyprus', 'CZE': 'Czech Republic', 'DNK': 'Denmark', 'EST': 'Estonia',\n",
        "    'FIN': 'Finland', 'FRA': 'France', 'DEU': 'Germany', 'GRC': 'Greece',\n",
        "    'HUN': 'Hungary','IRL': 'Ireland', 'ITA': 'Italy', 'LVA': 'Latvia',\n",
        "    'LTU': 'Lithuania', 'LUX': 'Luxembourg', 'MLT': 'Malta', 'NLD': 'Netherlands',\n",
        "    'POL': 'Poland', 'PRT': 'Portugal', 'ROU': 'Romania', 'SVK': 'Slovakia',\n",
        "    'SVN': 'Slovenia', 'ESP': 'Spain', 'SWE': 'Sweden' }"
      ]
    },
    {
      "cell_type": "markdown",
      "source": [
        "Głowna funkcja obsługująca pobieranie:"
      ],
      "metadata": {
        "id": "-fmk9-x8jpUB"
      }
    },
    {
      "cell_type": "code",
      "source": [
        "import requests, json\n",
        "import pandas as pd\n",
        "\n",
        "def get_data(variable: str, country_codes: dict, periods: range):\n",
        "  MAIN_URL = \"https://www.imf.org/external/datamapper/api/v1/\"\n",
        "\n",
        "  # Selection countries\n",
        "  countries = \"\"\n",
        "  for i in country_codes.keys():\n",
        "    countries = countries + \"/\" + i\n",
        "\n",
        "  # Selection periods\n",
        "  periods_str = \"\"\n",
        "  for i in periods:\n",
        "    periods_str = periods_str + str(i) + \",\"\n",
        "  periods_str = periods_str[:-1]\n",
        "\n",
        "  # URL\n",
        "  URL =  MAIN_URL + variable + countries + \"?periods=\" + periods_str\n",
        "  print(URL)\n",
        "\n",
        "  # Download the contents of the frame page\n",
        "  response = requests.get(URL)\n",
        "\n",
        "  # This command transforms the text into a structure\n",
        "  if response.status_code == 200:\n",
        "    data_json = json.loads(response.text)\n",
        "\n",
        "  data_df = pd.DataFrame(data_json['values'][variable])\n",
        "  return data_df"
      ],
      "metadata": {
        "id": "O0OfH8vJjp7D"
      },
      "execution_count": null,
      "outputs": []
    },
    {
      "cell_type": "markdown",
      "source": [
        "# Wykres 1: Skumulowany wzrost PKB w prognozie MFW\n",
        "Ściągamy tempo wzrostu PKB:"
      ],
      "metadata": {
        "id": "XbK0Dr6CmyZ5"
      }
    },
    {
      "cell_type": "code",
      "source": [
        "df_gdp = get_data(\"NGDP_RPCH\", eu_country_codes, range(2025,2030))\n",
        "df_gdp"
      ],
      "metadata": {
        "id": "QE7WqLHdluta"
      },
      "execution_count": null,
      "outputs": []
    },
    {
      "cell_type": "markdown",
      "source": [
        "Skumulowana wartośc - suma wszystkich elementów kolumny:"
      ],
      "metadata": {
        "id": "FmSRQ6pMnMb5"
      }
    },
    {
      "cell_type": "code",
      "source": [
        "df_cum_gpd = df_gdp.sum()\n",
        "df_cum_gpd = df_cum_gpd.sort_values(ascending=False)\n",
        "df_cum_gpd.to_csv(\"df_cum_gpd.csv\")"
      ],
      "metadata": {
        "id": "lSjCmOC6nMIF"
      },
      "execution_count": null,
      "outputs": []
    },
    {
      "cell_type": "markdown",
      "source": [
        "# Wykres 2: PKB per capita\n",
        "Na początek drobna tabela do użycia w trakcie pisania tekstu - udział w światowym PKB:"
      ],
      "metadata": {
        "id": "QIdv1G53rJ-W"
      }
    },
    {
      "cell_type": "code",
      "source": [
        "# CEE\n",
        "visegrad_country_codes = {\n",
        "    'CZE': 'Czech Republic',\n",
        "    'HUN': 'Hungary',\n",
        "    'POL': 'Poland',\n",
        "    'SVK': 'Slovakia',\n",
        "}\n",
        "\n",
        "df_share_world_ppl_CEE = get_data(\"PPPSH\", visegrad_country_codes, range(2025,2030))\n",
        "df_share_world_ppl_CEE"
      ],
      "metadata": {
        "id": "VsYJCHiv-Hrt"
      },
      "execution_count": null,
      "outputs": []
    },
    {
      "cell_type": "code",
      "source": [
        "weimar_country_codes = {\n",
        "    'FRA': 'France',\n",
        "    'DEU': 'Germany',\n",
        "    'POL': 'Poland'\n",
        "}\n",
        "\n",
        "df_share_world_ppl_weimar = get_data(\"PPPSH\", weimar_country_codes, range(2025,2030))\n",
        "df_share_world_ppl_weimar"
      ],
      "metadata": {
        "id": "kF6eNn53_y4r"
      },
      "execution_count": null,
      "outputs": []
    },
    {
      "cell_type": "markdown",
      "source": [
        "Teraz przeanalizujemy PKB per capita PPP oraz mierzonego w dolarach:"
      ],
      "metadata": {
        "id": "z5T99h7JANUy"
      }
    },
    {
      "cell_type": "code",
      "source": [
        "# USD\n",
        "df_gdp_pc_usd = get_data(\"NGDPDPC\", eu_country_codes, range(2025,2030))\n",
        "\n",
        "# PPS\n",
        "df_gdp_pc_ppp = get_data(\"PPPPC\", eu_country_codes, range(2025,2030))"
      ],
      "metadata": {
        "colab": {
          "base_uri": "https://localhost:8080/"
        },
        "id": "YYn3fI2IAMw5",
        "outputId": "7e07c28a-6657-4403-9fa9-94fc0460ef9f"
      },
      "execution_count": 22,
      "outputs": [
        {
          "output_type": "stream",
          "name": "stdout",
          "text": [
            "https://www.imf.org/external/datamapper/api/v1/NGDPDPC/AUT/BEL/BGR/HRV/CYP/CZE/DNK/EST/FIN/FRA/DEU/GRC/HUN/IRL/ITA/LVA/LTU/LUX/MLT/NLD/POL/PRT/ROU/SVK/SVN/ESP/SWE?periods=2025,2026,2027,2028,2029\n",
            "https://www.imf.org/external/datamapper/api/v1/PPPPC/AUT/BEL/BGR/HRV/CYP/CZE/DNK/EST/FIN/FRA/DEU/GRC/HUN/IRL/ITA/LVA/LTU/LUX/MLT/NLD/POL/PRT/ROU/SVK/SVN/ESP/SWE?periods=2025,2026,2027,2028,2029\n"
          ]
        }
      ]
    },
    {
      "cell_type": "markdown",
      "source": [
        "Przeliczenie jako odsetka do Niemiec:"
      ],
      "metadata": {
        "id": "Gi33vw37BZCn"
      }
    },
    {
      "cell_type": "code",
      "source": [
        "# USD - % Niemiec\n",
        "df_gdp_pc_vs_DEU_USD = df_gdp_pc_usd.div(df_gdp_pc_usd['DEU'], axis=0)\n",
        "df_gdp_pc_vs_DEU_USD.to_csv(\"df_gdp_pc_vs_DEU_USD.csv\")\n",
        "\n",
        "# PPP - % Niemiec\n",
        "df_gdp_pc_vs_DEU_PPP = df_gdp_pc_ppp.div(df_gdp_pc_ppp['DEU'], axis=0)\n",
        "df_gdp_pc_vs_DEU_PPP.to_csv(\"df_gdp_pc_vs_DEU_PPP.csv\")"
      ],
      "metadata": {
        "id": "-tjPmSgcApkc"
      },
      "execution_count": 24,
      "outputs": []
    },
    {
      "cell_type": "markdown",
      "source": [
        "Na koniec PKB Polski to jaki odsetek kolejnych krajów:"
      ],
      "metadata": {
        "id": "K-oyH1bCDg52"
      }
    },
    {
      "cell_type": "code",
      "source": [
        "df_gdp_pc_PLN_to_others_USD = df_gdp_pc_usd.apply(lambda x: df_gdp_pc_usd['POL'] / x)\n",
        "df_gdp_pc_PLN_to_others_USD[[\"CZE\", \"DEU\", \"FRA\", \"ESP\", \"ITA\"]].to_csv(\"df_gdp_pc_PLN_to_others_USD.csv\")"
      ],
      "metadata": {
        "id": "Uq7pJ6UlDfq7"
      },
      "execution_count": 30,
      "outputs": []
    },
    {
      "cell_type": "code",
      "source": [
        "df_gdp_pc_PLN_to_others_PPP = df_gdp_pc_ppp.apply(lambda x: df_gdp_pc_ppp['POL'] / x)\n",
        "df_gdp_pc_PLN_to_others_PPP[[\"CZE\", \"DEU\", \"FRA\", \"ESP\", \"ITA\"]].to_csv(\"df_gdp_pc_PLN_to_others_PPP.csv\")"
      ],
      "metadata": {
        "id": "d0jkFw6yFwzs"
      },
      "execution_count": 31,
      "outputs": []
    }
  ]
}